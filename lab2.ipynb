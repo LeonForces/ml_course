{
  "cells": [
    {
      "cell_type": "code",
      "execution_count": 1,
      "metadata": {
        "colab": {
          "base_uri": "https://localhost:8080/"
        },
        "id": "70BxXhKkD4iP",
        "outputId": "f0b853ea-415f-4c00-effa-b8a0de363465"
      },
      "outputs": [
        {
          "name": "stdout",
          "output_type": "stream",
          "text": [
            "Collecting pygmo\n",
            "  Downloading pygmo-2.19.5-cp310-cp310-manylinux_2_28_x86_64.whl.metadata (978 bytes)\n",
            "Requirement already satisfied: numpy in /usr/local/lib/python3.10/dist-packages (from pygmo) (1.26.4)\n",
            "Requirement already satisfied: cloudpickle in /usr/local/lib/python3.10/dist-packages (from pygmo) (3.1.0)\n",
            "Requirement already satisfied: scipy in /usr/local/lib/python3.10/dist-packages (from pygmo) (1.13.1)\n",
            "Downloading pygmo-2.19.5-cp310-cp310-manylinux_2_28_x86_64.whl (14.7 MB)\n",
            "\u001b[2K   \u001b[90m━━━━━━━━━━━━━━━━━━━━━━━━━━━━━━━━━━━━━━━━\u001b[0m \u001b[32m14.7/14.7 MB\u001b[0m \u001b[31m44.0 MB/s\u001b[0m eta \u001b[36m0:00:00\u001b[0m\n",
            "\u001b[?25hInstalling collected packages: pygmo\n",
            "Successfully installed pygmo-2.19.5\n"
          ]
        }
      ],
      "source": [
        "!pip install pygmo"
      ]
    },
    {
      "cell_type": "code",
      "execution_count": 4,
      "metadata": {
        "id": "8HRLVJ6JD9sF"
      },
      "outputs": [],
      "source": [
        "import pygmo as pg\n",
        "\n",
        "# Функция Матьяса\n",
        "class MatyasFunction:\n",
        "    def fitness(self, x):\n",
        "        return [0.26 * (x[0]**2 + x[1]**2) - 0.48 * x[0] * x[1]]\n",
        "\n",
        "    def get_bounds(self):\n",
        "        return ([-10, -10], [10, 10])  # Границы для x и y\n",
        "\n",
        "# Функция Химмельблау\n",
        "class HimmelblauFunction:\n",
        "    def fitness(self, x):\n",
        "        return [(x[0]**2 + x[1] - 11)**2 + (x[0] + x[1]**2 - 7)**2]\n",
        "\n",
        "    def get_bounds(self):\n",
        "        return ([-6, -6], [6, 6])"
      ]
    },
    {
      "cell_type": "code",
      "execution_count": 6,
      "metadata": {
        "colab": {
          "base_uri": "https://localhost:8080/"
        },
        "id": "xI1_OAfREHG1",
        "outputId": "13041f4b-4bef-44d2-834e-8696a19dfe59"
      },
      "outputs": [
        {
          "name": "stdout",
          "output_type": "stream",
          "text": [
            "Таблица результатов:\n",
            "Функция    Алгоритм                  Оптимум                   Значение        Время (сек)\n",
            "Функция 1  Differential Evolution    [-0.0001328  -0.00036779] 0.000000        0.005191  \n",
            "Функция 1  Simulated Annealing       [0.87140159 0.73487971]   0.030461        0.006956  \n",
            "Функция 1  Particle Swarm Optimization [-3.65601975e-05 -1.49314264e-05] 0.000000        0.011082  \n",
            "Функция 2  Differential Evolution    [2.99998472 2.0000077 ]   0.000000        0.008854  \n",
            "Функция 2  Simulated Annealing       [ 3.60587958 -1.86259885] 0.025183        0.002101  \n",
            "Функция 2  Particle Swarm Optimization [3.00001516 1.99996488]   0.000000        0.010924  \n"
          ]
        }
      ],
      "source": [
        "import time\n",
        "\n",
        "# Список задач\n",
        "problems = [pg.problem(MatyasFunction()), pg.problem(HimmelblauFunction())]\n",
        "\n",
        "# Алгоритмы для тестирования\n",
        "algorithms = [\n",
        "    (pg.algorithm(pg.de(gen=100)), \"Differential Evolution\"),\n",
        "    (pg.algorithm(pg.simulated_annealing()), \"Simulated Annealing\"),\n",
        "    (pg.algorithm(pg.pso(gen=100)), \"Particle Swarm Optimization\")\n",
        "]\n",
        "\n",
        "# Таблица результатов\n",
        "results = []\n",
        "\n",
        "for i, problem in enumerate(problems):\n",
        "    for algo, name in algorithms:\n",
        "        population = pg.population(problem, size=20)\n",
        "\n",
        "        # Замер времени выполнения\n",
        "        start_time = time.time()\n",
        "        evolved_pop = algo.evolve(population)\n",
        "        end_time = time.time()\n",
        "\n",
        "        # Сбор данных\n",
        "        best_fitness = evolved_pop.champion_f[0]\n",
        "        best_solution = evolved_pop.champion_x\n",
        "        elapsed_time = end_time - start_time\n",
        "\n",
        "        results.append((f\"Функция {i+1}\", name, best_solution, best_fitness, elapsed_time))\n",
        "\n",
        "# Вывод таблицы результатов\n",
        "print(\"Таблица результатов:\")\n",
        "print(f\"{'Функция':<10} {'Алгоритм':<25} {'Оптимум':<25} {'Значение':<15} {'Время (сек)':<10}\")\n",
        "for row in results:\n",
        "    print(f\"{row[0]:<10} {row[1]:<25} {str(row[2]):<25} {row[3]:<15.6f} {row[4]:<10.6f}\")"
      ]
    },
    {
      "cell_type": "code",
      "execution_count": null,
      "metadata": {
        "id": "wDxp3PjNEHyk"
      },
      "outputs": [],
      "source": []
    }
  ],
  "metadata": {
    "colab": {
      "provenance": []
    },
    "kernelspec": {
      "display_name": ".venv",
      "language": "python",
      "name": "python3"
    },
    "language_info": {
      "name": "python",
      "version": "3.12.2"
    }
  },
  "nbformat": 4,
  "nbformat_minor": 0
}
