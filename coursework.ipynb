{
  "cells": [
    {
      "cell_type": "markdown",
      "metadata": {
        "id": "lm6OpgHXGSLW"
      },
      "source": [
        "# Курсовая работа\n",
        "\n",
        "Выполнил: Нурмухамедов Абубакир, группа М8О-114СВ-24\n",
        "\n",
        "Датасет: Tourism and Economic Impact\n",
        "\n"
      ]
    },
    {
      "cell_type": "markdown",
      "metadata": {
        "id": "nz_6t9c6GrLx"
      },
      "source": [
        "## Tourism and Economic Impact"
      ]
    },
    {
      "cell_type": "markdown",
      "metadata": {
        "id": "YuCX6AtnNtxX"
      },
      "source": [
        "Этот набор данных включает в себя ключевые туристические и экономические показатели для более чем 200 стран, охватывающих годы с 1999 по 2023 год. Он охватывает широкий спектр данных, связанных с прибыванием туристов, расходами, поступлениями, ВВП, безработицей и инфляцией, помогая исследовать взаимосвязь между туризмом и экономическим ростом во всем мире.\n",
        "\n",
        "Данные содержат информацию о туризме и экономических показателях по странам. Вот основные столбцы:\n",
        "\n",
        "- **country**: Название страны\n",
        "- **country_code**: Код страны\n",
        "- **year**: Год\n",
        "- **tourism_receipts**: Доходы от туризма\n",
        "- **tourism_arrivals**: Количество туристов\n",
        "- **tourism_exports**: Экспорт услуг, связанных с туризмом\n",
        "- **tourism_departures**: Количество выезжающих туристов\n",
        "- **tourism_expenditures**: Расходы туристов\n",
        "- **gdp**: ВВП страны\n",
        "- **inflation**: Уровень инфляции\n",
        "- **unemployment**: Уровень безработицы\n",
        "\n",
        "Набор данных взят из экономических и туристических баз данных Всемирного банка, предлагающих надежную и актуальную статистику по глобальным показателям туризма и экономики.\n"
      ]
    },
    {
      "cell_type": "code",
      "execution_count": 64,
      "metadata": {
        "colab": {
          "base_uri": "https://localhost:8080/"
        },
        "id": "8V-ACfNhSm6k",
        "outputId": "b6df2091-dce5-450f-91af-e60bec7d86fb"
      },
      "outputs": [
        {
          "name": "stdout",
          "output_type": "stream",
          "text": [
            "Requirement already satisfied: kagglehub in /usr/local/lib/python3.10/dist-packages (0.3.5)\n",
            "Requirement already satisfied: packaging in /usr/local/lib/python3.10/dist-packages (from kagglehub) (24.2)\n",
            "Requirement already satisfied: requests in /usr/local/lib/python3.10/dist-packages (from kagglehub) (2.32.3)\n",
            "Requirement already satisfied: tqdm in /usr/local/lib/python3.10/dist-packages (from kagglehub) (4.67.1)\n",
            "Requirement already satisfied: charset-normalizer<4,>=2 in /usr/local/lib/python3.10/dist-packages (from requests->kagglehub) (3.4.0)\n",
            "Requirement already satisfied: idna<4,>=2.5 in /usr/local/lib/python3.10/dist-packages (from requests->kagglehub) (3.10)\n",
            "Requirement already satisfied: urllib3<3,>=1.21.1 in /usr/local/lib/python3.10/dist-packages (from requests->kagglehub) (2.2.3)\n",
            "Requirement already satisfied: certifi>=2017.4.17 in /usr/local/lib/python3.10/dist-packages (from requests->kagglehub) (2024.12.14)\n"
          ]
        }
      ],
      "source": [
        "!pip install kagglehub"
      ]
    },
    {
      "cell_type": "code",
      "execution_count": 2,
      "metadata": {
        "colab": {
          "base_uri": "https://localhost:8080/"
        },
        "id": "DgoPPHPKS1d-",
        "outputId": "31fdd63d-d33e-486b-b38e-7438baa99bed"
      },
      "outputs": [
        {
          "name": "stdout",
          "output_type": "stream",
          "text": [
            "Warning: Looks like you're using an outdated `kagglehub` version (installed: 0.3.5), please consider upgrading to the latest version (0.3.6).\n",
            "Downloading from https://www.kaggle.com/api/v1/datasets/download/bushraqurban/tourism-and-economic-impact?dataset_version_number=1...\n"
          ]
        },
        {
          "name": "stderr",
          "output_type": "stream",
          "text": [
            "100%|██████████| 270k/270k [00:00<00:00, 24.1MB/s]"
          ]
        },
        {
          "name": "stdout",
          "output_type": "stream",
          "text": [
            "Extracting files...\n",
            "Path to dataset files: /root/.cache/kagglehub/datasets/bushraqurban/tourism-and-economic-impact/versions/1\n"
          ]
        },
        {
          "name": "stderr",
          "output_type": "stream",
          "text": [
            "\n"
          ]
        }
      ],
      "source": [
        "import kagglehub\n",
        "\n",
        "# Download latest version\n",
        "path = kagglehub.dataset_download(\"bushraqurban/tourism-and-economic-impact\")\n",
        "\n",
        "print(\"Path to dataset files:\", path)"
      ]
    },
    {
      "cell_type": "markdown",
      "metadata": {
        "id": "LU0UVW5BxNtb"
      },
      "source": [
        "#### DataLoader"
      ]
    },
    {
      "cell_type": "code",
      "execution_count": 54,
      "metadata": {
        "id": "SFnE15NOsgvw"
      },
      "outputs": [],
      "source": [
        "import pandas as pd\n",
        "import torch\n",
        "from torch.utils.data import Dataset, DataLoader\n",
        "\n",
        "csv_file_path = path + \"/world_tourism_economy_data.csv\"\n",
        "\n",
        "class TourismEconomyDataset(Dataset):\n",
        "    def __init__(self, csv_file, features, target, transform=None):\n",
        "        \"\"\"\n",
        "        Args:\n",
        "            csv_file (str): Path to the CSV file.\n",
        "            features (list): List of feature column names.\n",
        "            target (str): Target column name.\n",
        "            transform (callable, optional): Optional transform to be applied\n",
        "                on a sample.\n",
        "        \"\"\"\n",
        "        self.data = pd.read_csv(csv_file).dropna(subset=features + [target])\n",
        "        self.features = features\n",
        "        self.target = target\n",
        "        self.transform = transform\n",
        "\n",
        "    def __len__(self):\n",
        "        return len(self.data)\n",
        "\n",
        "    def __getitem__(self, idx):\n",
        "        if torch.is_tensor(idx):\n",
        "            idx = idx.tolist()\n",
        "\n",
        "        features = self.data.iloc[idx][self.features].values.astype(float)\n",
        "        target = self.data.iloc[idx][self.target]\n",
        "        sample = {'features': torch.tensor(features, dtype=torch.float32),\n",
        "                  'target': torch.tensor(target, dtype=torch.float32)}\n",
        "\n",
        "        if self.transform:\n",
        "            sample = self.transform(sample)\n",
        "\n",
        "        return sample\n",
        "\n",
        "target_column = 'gdp'\n",
        "dataset = TourismEconomyDataset(csv_file=csv_file_path,\n",
        "                                  features=feature_columns,\n",
        "                                  target=target_column)\n",
        "\n",
        "dataloader = DataLoader(dataset, batch_size=32, shuffle=True)\n",
        "\n"
      ]
    },
    {
      "cell_type": "markdown",
      "metadata": {
        "id": "jpKJMyODMGAN"
      },
      "source": [
        "#### Экземпляры данных"
      ]
    },
    {
      "cell_type": "code",
      "execution_count": 61,
      "metadata": {
        "colab": {
          "base_uri": "https://localhost:8080/",
          "height": 479
        },
        "id": "foX2PesNspVw",
        "outputId": "02fe345e-45e6-4386-cf1c-dc527d09c7a9"
      },
      "outputs": [
        {
          "data": {
            "application/vnd.google.colaboratory.intrinsic+json": {
              "summary": "{\n  \"name\": \"df\",\n  \"rows\": 3888,\n  \"fields\": [\n    {\n      \"column\": \"country\",\n      \"properties\": {\n        \"dtype\": \"category\",\n        \"num_unique_values\": 226,\n        \"samples\": [\n          \"Argentina\",\n          \"Slovak Republic\",\n          \"Libya\"\n        ],\n        \"semantic_type\": \"\",\n        \"description\": \"\"\n      }\n    },\n    {\n      \"column\": \"country_code\",\n      \"properties\": {\n        \"dtype\": \"category\",\n        \"num_unique_values\": 226,\n        \"samples\": [\n          \"ARG\",\n          \"SVK\",\n          \"LBY\"\n        ],\n        \"semantic_type\": \"\",\n        \"description\": \"\"\n      }\n    },\n    {\n      \"column\": \"year\",\n      \"properties\": {\n        \"dtype\": \"number\",\n        \"std\": 6,\n        \"min\": 1999,\n        \"max\": 2020,\n        \"num_unique_values\": 22,\n        \"samples\": [\n          1999,\n          2012,\n          2007\n        ],\n        \"semantic_type\": \"\",\n        \"description\": \"\"\n      }\n    },\n    {\n      \"column\": \"tourism_receipts\",\n      \"properties\": {\n        \"dtype\": \"number\",\n        \"std\": 135177174512.98885,\n        \"min\": 100000.0,\n        \"max\": 1863068555520.54,\n        \"num_unique_values\": 3046,\n        \"samples\": [\n          305630882910.835,\n          2723000000.0,\n          378217798040.339\n        ],\n        \"semantic_type\": \"\",\n        \"description\": \"\"\n      }\n    },\n    {\n      \"column\": \"tourism_arrivals\",\n      \"properties\": {\n        \"dtype\": \"number\",\n        \"std\": 209989976.72538334,\n        \"min\": 1100.00002384186,\n        \"max\": 2403074088.46029,\n        \"num_unique_values\": 3187,\n        \"samples\": [\n          1226000.0,\n          3310000.0,\n          2319000.0\n        ],\n        \"semantic_type\": \"\",\n        \"description\": \"\"\n      }\n    },\n    {\n      \"column\": \"tourism_exports\",\n      \"properties\": {\n        \"dtype\": \"number\",\n        \"std\": 18.273638211923235,\n        \"min\": 0.0009561945847061,\n        \"max\": 101.966998518723,\n        \"num_unique_values\": 3611,\n        \"samples\": [\n          15.5707031462505,\n          37.7035628380215,\n          2.50837151944587\n        ],\n        \"semantic_type\": \"\",\n        \"description\": \"\"\n      }\n    },\n    {\n      \"column\": \"tourism_departures\",\n      \"properties\": {\n        \"dtype\": \"number\",\n        \"std\": 212422595.65776896,\n        \"min\": 2000.0,\n        \"max\": 2034431899.10226,\n        \"num_unique_values\": 1825,\n        \"samples\": [\n          241460247.066788,\n          495000.0,\n          119458000.0\n        ],\n        \"semantic_type\": \"\",\n        \"description\": \"\"\n      }\n    },\n    {\n      \"column\": \"tourism_expenditures\",\n      \"properties\": {\n        \"dtype\": \"number\",\n        \"std\": 4.0529486314912235,\n        \"min\": 0.157818441898368,\n        \"max\": 28.1922755229195,\n        \"num_unique_values\": 3476,\n        \"samples\": [\n          2.49092008954822,\n          2.67642039268779,\n          4.9745662093293\n        ],\n        \"semantic_type\": \"\",\n        \"description\": \"\"\n      }\n    },\n    {\n      \"column\": \"gdp\",\n      \"properties\": {\n        \"dtype\": \"number\",\n        \"std\": 7531333051075.678,\n        \"min\": 22909979.8163078,\n        \"max\": 88149850742945.9,\n        \"num_unique_values\": 3867,\n        \"samples\": [\n          2537307580.32808,\n          799881481.481481,\n          16208985769.615\n        ],\n        \"semantic_type\": \"\",\n        \"description\": \"\"\n      }\n    },\n    {\n      \"column\": \"inflation\",\n      \"properties\": {\n        \"dtype\": \"number\",\n        \"std\": 14.417589088942652,\n        \"min\": -9.79764705882357,\n        \"max\": 557.201817362051,\n        \"num_unique_values\": 3372,\n        \"samples\": [\n          9.04806786050888,\n          2.1203909173333,\n          6.87815499275949\n        ],\n        \"semantic_type\": \"\",\n        \"description\": \"\"\n      }\n    },\n    {\n      \"column\": \"unemployment\",\n      \"properties\": {\n        \"dtype\": \"number\",\n        \"std\": 5.507335010104547,\n        \"min\": 0.039,\n        \"max\": 37.32,\n        \"num_unique_values\": 2240,\n        \"samples\": [\n          31.313,\n          5.565,\n          10.304\n        ],\n        \"semantic_type\": \"\",\n        \"description\": \"\"\n      }\n    }\n  ]\n}",
              "type": "dataframe",
              "variable_name": "df"
            },
            "text/html": [
              "\n",
              "  <div id=\"df-9f354239-b504-4f9f-a226-e666bc86275e\" class=\"colab-df-container\">\n",
              "    <div>\n",
              "<style scoped>\n",
              "    .dataframe tbody tr th:only-of-type {\n",
              "        vertical-align: middle;\n",
              "    }\n",
              "\n",
              "    .dataframe tbody tr th {\n",
              "        vertical-align: top;\n",
              "    }\n",
              "\n",
              "    .dataframe thead th {\n",
              "        text-align: right;\n",
              "    }\n",
              "</style>\n",
              "<table border=\"1\" class=\"dataframe\">\n",
              "  <thead>\n",
              "    <tr style=\"text-align: right;\">\n",
              "      <th></th>\n",
              "      <th>country</th>\n",
              "      <th>country_code</th>\n",
              "      <th>year</th>\n",
              "      <th>tourism_receipts</th>\n",
              "      <th>tourism_arrivals</th>\n",
              "      <th>tourism_exports</th>\n",
              "      <th>tourism_departures</th>\n",
              "      <th>tourism_expenditures</th>\n",
              "      <th>gdp</th>\n",
              "      <th>inflation</th>\n",
              "      <th>unemployment</th>\n",
              "    </tr>\n",
              "  </thead>\n",
              "  <tbody>\n",
              "    <tr>\n",
              "      <th>0</th>\n",
              "      <td>Africa Eastern and Southern</td>\n",
              "      <td>AFE</td>\n",
              "      <td>1999</td>\n",
              "      <td>8.034209e+09</td>\n",
              "      <td>1.530938e+07</td>\n",
              "      <td>12.204030</td>\n",
              "      <td>NaN</td>\n",
              "      <td>7.760536</td>\n",
              "      <td>2.654293e+11</td>\n",
              "      <td>7.819865</td>\n",
              "      <td>NaN</td>\n",
              "    </tr>\n",
              "    <tr>\n",
              "      <th>1</th>\n",
              "      <td>Africa Eastern and Southern</td>\n",
              "      <td>AFE</td>\n",
              "      <td>2000</td>\n",
              "      <td>7.035529e+09</td>\n",
              "      <td>1.535318e+07</td>\n",
              "      <td>9.686414</td>\n",
              "      <td>NaN</td>\n",
              "      <td>7.523516</td>\n",
              "      <td>2.872017e+11</td>\n",
              "      <td>8.601485</td>\n",
              "      <td>NaN</td>\n",
              "    </tr>\n",
              "    <tr>\n",
              "      <th>2</th>\n",
              "      <td>Africa Eastern and Southern</td>\n",
              "      <td>AFE</td>\n",
              "      <td>2001</td>\n",
              "      <td>7.489514e+09</td>\n",
              "      <td>1.585470e+07</td>\n",
              "      <td>10.840517</td>\n",
              "      <td>NaN</td>\n",
              "      <td>6.940725</td>\n",
              "      <td>2.609922e+11</td>\n",
              "      <td>5.840354</td>\n",
              "      <td>NaN</td>\n",
              "    </tr>\n",
              "    <tr>\n",
              "      <th>3</th>\n",
              "      <td>Africa Eastern and Southern</td>\n",
              "      <td>AFE</td>\n",
              "      <td>2002</td>\n",
              "      <td>8.266443e+09</td>\n",
              "      <td>1.738338e+07</td>\n",
              "      <td>11.280159</td>\n",
              "      <td>NaN</td>\n",
              "      <td>6.690369</td>\n",
              "      <td>2.678150e+11</td>\n",
              "      <td>8.763754</td>\n",
              "      <td>NaN</td>\n",
              "    </tr>\n",
              "    <tr>\n",
              "      <th>4</th>\n",
              "      <td>Africa Eastern and Southern</td>\n",
              "      <td>AFE</td>\n",
              "      <td>2003</td>\n",
              "      <td>1.220460e+10</td>\n",
              "      <td>1.784439e+07</td>\n",
              "      <td>13.600724</td>\n",
              "      <td>NaN</td>\n",
              "      <td>7.122378</td>\n",
              "      <td>3.557164e+11</td>\n",
              "      <td>7.449700</td>\n",
              "      <td>NaN</td>\n",
              "    </tr>\n",
              "  </tbody>\n",
              "</table>\n",
              "</div>\n",
              "    <div class=\"colab-df-buttons\">\n",
              "\n",
              "  <div class=\"colab-df-container\">\n",
              "    <button class=\"colab-df-convert\" onclick=\"convertToInteractive('df-9f354239-b504-4f9f-a226-e666bc86275e')\"\n",
              "            title=\"Convert this dataframe to an interactive table.\"\n",
              "            style=\"display:none;\">\n",
              "\n",
              "  <svg xmlns=\"http://www.w3.org/2000/svg\" height=\"24px\" viewBox=\"0 -960 960 960\">\n",
              "    <path d=\"M120-120v-720h720v720H120Zm60-500h600v-160H180v160Zm220 220h160v-160H400v160Zm0 220h160v-160H400v160ZM180-400h160v-160H180v160Zm440 0h160v-160H620v160ZM180-180h160v-160H180v160Zm440 0h160v-160H620v160Z\"/>\n",
              "  </svg>\n",
              "    </button>\n",
              "\n",
              "  <style>\n",
              "    .colab-df-container {\n",
              "      display:flex;\n",
              "      gap: 12px;\n",
              "    }\n",
              "\n",
              "    .colab-df-convert {\n",
              "      background-color: #E8F0FE;\n",
              "      border: none;\n",
              "      border-radius: 50%;\n",
              "      cursor: pointer;\n",
              "      display: none;\n",
              "      fill: #1967D2;\n",
              "      height: 32px;\n",
              "      padding: 0 0 0 0;\n",
              "      width: 32px;\n",
              "    }\n",
              "\n",
              "    .colab-df-convert:hover {\n",
              "      background-color: #E2EBFA;\n",
              "      box-shadow: 0px 1px 2px rgba(60, 64, 67, 0.3), 0px 1px 3px 1px rgba(60, 64, 67, 0.15);\n",
              "      fill: #174EA6;\n",
              "    }\n",
              "\n",
              "    .colab-df-buttons div {\n",
              "      margin-bottom: 4px;\n",
              "    }\n",
              "\n",
              "    [theme=dark] .colab-df-convert {\n",
              "      background-color: #3B4455;\n",
              "      fill: #D2E3FC;\n",
              "    }\n",
              "\n",
              "    [theme=dark] .colab-df-convert:hover {\n",
              "      background-color: #434B5C;\n",
              "      box-shadow: 0px 1px 3px 1px rgba(0, 0, 0, 0.15);\n",
              "      filter: drop-shadow(0px 1px 2px rgba(0, 0, 0, 0.3));\n",
              "      fill: #FFFFFF;\n",
              "    }\n",
              "  </style>\n",
              "\n",
              "    <script>\n",
              "      const buttonEl =\n",
              "        document.querySelector('#df-9f354239-b504-4f9f-a226-e666bc86275e button.colab-df-convert');\n",
              "      buttonEl.style.display =\n",
              "        google.colab.kernel.accessAllowed ? 'block' : 'none';\n",
              "\n",
              "      async function convertToInteractive(key) {\n",
              "        const element = document.querySelector('#df-9f354239-b504-4f9f-a226-e666bc86275e');\n",
              "        const dataTable =\n",
              "          await google.colab.kernel.invokeFunction('convertToInteractive',\n",
              "                                                    [key], {});\n",
              "        if (!dataTable) return;\n",
              "\n",
              "        const docLinkHtml = 'Like what you see? Visit the ' +\n",
              "          '<a target=\"_blank\" href=https://colab.research.google.com/notebooks/data_table.ipynb>data table notebook</a>'\n",
              "          + ' to learn more about interactive tables.';\n",
              "        element.innerHTML = '';\n",
              "        dataTable['output_type'] = 'display_data';\n",
              "        await google.colab.output.renderOutput(dataTable, element);\n",
              "        const docLink = document.createElement('div');\n",
              "        docLink.innerHTML = docLinkHtml;\n",
              "        element.appendChild(docLink);\n",
              "      }\n",
              "    </script>\n",
              "  </div>\n",
              "\n",
              "\n",
              "<div id=\"df-1c10f363-df70-4381-9dbd-7f5e85a8dfb8\">\n",
              "  <button class=\"colab-df-quickchart\" onclick=\"quickchart('df-1c10f363-df70-4381-9dbd-7f5e85a8dfb8')\"\n",
              "            title=\"Suggest charts\"\n",
              "            style=\"display:none;\">\n",
              "\n",
              "<svg xmlns=\"http://www.w3.org/2000/svg\" height=\"24px\"viewBox=\"0 0 24 24\"\n",
              "     width=\"24px\">\n",
              "    <g>\n",
              "        <path d=\"M19 3H5c-1.1 0-2 .9-2 2v14c0 1.1.9 2 2 2h14c1.1 0 2-.9 2-2V5c0-1.1-.9-2-2-2zM9 17H7v-7h2v7zm4 0h-2V7h2v10zm4 0h-2v-4h2v4z\"/>\n",
              "    </g>\n",
              "</svg>\n",
              "  </button>\n",
              "\n",
              "<style>\n",
              "  .colab-df-quickchart {\n",
              "      --bg-color: #E8F0FE;\n",
              "      --fill-color: #1967D2;\n",
              "      --hover-bg-color: #E2EBFA;\n",
              "      --hover-fill-color: #174EA6;\n",
              "      --disabled-fill-color: #AAA;\n",
              "      --disabled-bg-color: #DDD;\n",
              "  }\n",
              "\n",
              "  [theme=dark] .colab-df-quickchart {\n",
              "      --bg-color: #3B4455;\n",
              "      --fill-color: #D2E3FC;\n",
              "      --hover-bg-color: #434B5C;\n",
              "      --hover-fill-color: #FFFFFF;\n",
              "      --disabled-bg-color: #3B4455;\n",
              "      --disabled-fill-color: #666;\n",
              "  }\n",
              "\n",
              "  .colab-df-quickchart {\n",
              "    background-color: var(--bg-color);\n",
              "    border: none;\n",
              "    border-radius: 50%;\n",
              "    cursor: pointer;\n",
              "    display: none;\n",
              "    fill: var(--fill-color);\n",
              "    height: 32px;\n",
              "    padding: 0;\n",
              "    width: 32px;\n",
              "  }\n",
              "\n",
              "  .colab-df-quickchart:hover {\n",
              "    background-color: var(--hover-bg-color);\n",
              "    box-shadow: 0 1px 2px rgba(60, 64, 67, 0.3), 0 1px 3px 1px rgba(60, 64, 67, 0.15);\n",
              "    fill: var(--button-hover-fill-color);\n",
              "  }\n",
              "\n",
              "  .colab-df-quickchart-complete:disabled,\n",
              "  .colab-df-quickchart-complete:disabled:hover {\n",
              "    background-color: var(--disabled-bg-color);\n",
              "    fill: var(--disabled-fill-color);\n",
              "    box-shadow: none;\n",
              "  }\n",
              "\n",
              "  .colab-df-spinner {\n",
              "    border: 2px solid var(--fill-color);\n",
              "    border-color: transparent;\n",
              "    border-bottom-color: var(--fill-color);\n",
              "    animation:\n",
              "      spin 1s steps(1) infinite;\n",
              "  }\n",
              "\n",
              "  @keyframes spin {\n",
              "    0% {\n",
              "      border-color: transparent;\n",
              "      border-bottom-color: var(--fill-color);\n",
              "      border-left-color: var(--fill-color);\n",
              "    }\n",
              "    20% {\n",
              "      border-color: transparent;\n",
              "      border-left-color: var(--fill-color);\n",
              "      border-top-color: var(--fill-color);\n",
              "    }\n",
              "    30% {\n",
              "      border-color: transparent;\n",
              "      border-left-color: var(--fill-color);\n",
              "      border-top-color: var(--fill-color);\n",
              "      border-right-color: var(--fill-color);\n",
              "    }\n",
              "    40% {\n",
              "      border-color: transparent;\n",
              "      border-right-color: var(--fill-color);\n",
              "      border-top-color: var(--fill-color);\n",
              "    }\n",
              "    60% {\n",
              "      border-color: transparent;\n",
              "      border-right-color: var(--fill-color);\n",
              "    }\n",
              "    80% {\n",
              "      border-color: transparent;\n",
              "      border-right-color: var(--fill-color);\n",
              "      border-bottom-color: var(--fill-color);\n",
              "    }\n",
              "    90% {\n",
              "      border-color: transparent;\n",
              "      border-bottom-color: var(--fill-color);\n",
              "    }\n",
              "  }\n",
              "</style>\n",
              "\n",
              "  <script>\n",
              "    async function quickchart(key) {\n",
              "      const quickchartButtonEl =\n",
              "        document.querySelector('#' + key + ' button');\n",
              "      quickchartButtonEl.disabled = true;  // To prevent multiple clicks.\n",
              "      quickchartButtonEl.classList.add('colab-df-spinner');\n",
              "      try {\n",
              "        const charts = await google.colab.kernel.invokeFunction(\n",
              "            'suggestCharts', [key], {});\n",
              "      } catch (error) {\n",
              "        console.error('Error during call to suggestCharts:', error);\n",
              "      }\n",
              "      quickchartButtonEl.classList.remove('colab-df-spinner');\n",
              "      quickchartButtonEl.classList.add('colab-df-quickchart-complete');\n",
              "    }\n",
              "    (() => {\n",
              "      let quickchartButtonEl =\n",
              "        document.querySelector('#df-1c10f363-df70-4381-9dbd-7f5e85a8dfb8 button');\n",
              "      quickchartButtonEl.style.display =\n",
              "        google.colab.kernel.accessAllowed ? 'block' : 'none';\n",
              "    })();\n",
              "  </script>\n",
              "</div>\n",
              "    </div>\n",
              "  </div>\n"
            ],
            "text/plain": [
              "                       country country_code  year  tourism_receipts  \\\n",
              "0  Africa Eastern and Southern          AFE  1999      8.034209e+09   \n",
              "1  Africa Eastern and Southern          AFE  2000      7.035529e+09   \n",
              "2  Africa Eastern and Southern          AFE  2001      7.489514e+09   \n",
              "3  Africa Eastern and Southern          AFE  2002      8.266443e+09   \n",
              "4  Africa Eastern and Southern          AFE  2003      1.220460e+10   \n",
              "\n",
              "   tourism_arrivals  tourism_exports  tourism_departures  \\\n",
              "0      1.530938e+07        12.204030                 NaN   \n",
              "1      1.535318e+07         9.686414                 NaN   \n",
              "2      1.585470e+07        10.840517                 NaN   \n",
              "3      1.738338e+07        11.280159                 NaN   \n",
              "4      1.784439e+07        13.600724                 NaN   \n",
              "\n",
              "   tourism_expenditures           gdp  inflation  unemployment  \n",
              "0              7.760536  2.654293e+11   7.819865           NaN  \n",
              "1              7.523516  2.872017e+11   8.601485           NaN  \n",
              "2              6.940725  2.609922e+11   5.840354           NaN  \n",
              "3              6.690369  2.678150e+11   8.763754           NaN  \n",
              "4              7.122378  3.557164e+11   7.449700           NaN  "
            ]
          },
          "execution_count": 61,
          "metadata": {},
          "output_type": "execute_result"
        }
      ],
      "source": [
        "data = dataset.data\n",
        "df=pd.DataFrame(data)\n",
        "df=df.sort_values(by=['country','year'],ascending=[True,True]).reset_index(drop=True)\n",
        "df.head()"
      ]
    },
    {
      "cell_type": "markdown",
      "metadata": {
        "id": "eyjiCbAgxBP8"
      },
      "source": [
        "## Статистика"
      ]
    },
    {
      "cell_type": "code",
      "execution_count": 63,
      "metadata": {
        "colab": {
          "base_uri": "https://localhost:8080/"
        },
        "id": "ngf6TupkxKsa",
        "outputId": "1c21b7cc-1ed0-4184-a365-d495c4a3e8d6"
      },
      "outputs": [
        {
          "name": "stdout",
          "output_type": "stream",
          "text": [
            "Количество записей:  3888\n",
            "Количество полей:  11\n",
            "Объём одной записи в битах:  1672.2304526748972\n",
            "Количество фичей:  8\n",
            "Количество пропусков: \n",
            "country                    0\n",
            "country_code               0\n",
            "year                       0\n",
            "tourism_receipts           0\n",
            "tourism_arrivals           0\n",
            "tourism_exports          256\n",
            "tourism_departures      1895\n",
            "tourism_expenditures     392\n",
            "gdp                        0\n",
            "inflation                232\n",
            "unemployment            1424\n",
            "dtype: int64\n"
          ]
        }
      ],
      "source": [
        "num_records = data.shape[0]\n",
        "num_fields = data.shape[1]\n",
        "\n",
        "record_size_bytes = data.memory_usage(deep=True).sum() / num_records\n",
        "record_size_bits = record_size_bytes * 8\n",
        "\n",
        "num_features = len([col for col in data.columns if col not in ['country', 'country_code', 'year']])\n",
        "\n",
        "missing_values = data.isnull().sum()\n",
        "\n",
        "data_types = data.dtypes\n",
        "\n",
        "print(\"Количество записей: \", num_records)\n",
        "print(\"Количество полей: \", num_fields)\n",
        "print(\"Объём одной записи в битах: \", record_size_bits)\n",
        "print(\"Количество фичей: \", num_features)\n",
        "print(\"Количество пропусков: \")\n",
        "print(missing_values)"
      ]
    },
    {
      "cell_type": "markdown",
      "metadata": {
        "id": "feV5l8m2yQAV"
      },
      "source": [
        "#### Типы данных"
      ]
    },
    {
      "cell_type": "code",
      "execution_count": 58,
      "metadata": {
        "colab": {
          "base_uri": "https://localhost:8080/",
          "height": 424
        },
        "id": "NmPOX61HyG46",
        "outputId": "a4765322-6775-4e50-fbd7-406df595b66c"
      },
      "outputs": [
        {
          "data": {
            "text/html": [
              "<div>\n",
              "<style scoped>\n",
              "    .dataframe tbody tr th:only-of-type {\n",
              "        vertical-align: middle;\n",
              "    }\n",
              "\n",
              "    .dataframe tbody tr th {\n",
              "        vertical-align: top;\n",
              "    }\n",
              "\n",
              "    .dataframe thead th {\n",
              "        text-align: right;\n",
              "    }\n",
              "</style>\n",
              "<table border=\"1\" class=\"dataframe\">\n",
              "  <thead>\n",
              "    <tr style=\"text-align: right;\">\n",
              "      <th></th>\n",
              "      <th>0</th>\n",
              "    </tr>\n",
              "  </thead>\n",
              "  <tbody>\n",
              "    <tr>\n",
              "      <th>country</th>\n",
              "      <td>object</td>\n",
              "    </tr>\n",
              "    <tr>\n",
              "      <th>country_code</th>\n",
              "      <td>object</td>\n",
              "    </tr>\n",
              "    <tr>\n",
              "      <th>year</th>\n",
              "      <td>int64</td>\n",
              "    </tr>\n",
              "    <tr>\n",
              "      <th>tourism_receipts</th>\n",
              "      <td>float64</td>\n",
              "    </tr>\n",
              "    <tr>\n",
              "      <th>tourism_arrivals</th>\n",
              "      <td>float64</td>\n",
              "    </tr>\n",
              "    <tr>\n",
              "      <th>tourism_exports</th>\n",
              "      <td>float64</td>\n",
              "    </tr>\n",
              "    <tr>\n",
              "      <th>tourism_departures</th>\n",
              "      <td>float64</td>\n",
              "    </tr>\n",
              "    <tr>\n",
              "      <th>tourism_expenditures</th>\n",
              "      <td>float64</td>\n",
              "    </tr>\n",
              "    <tr>\n",
              "      <th>gdp</th>\n",
              "      <td>float64</td>\n",
              "    </tr>\n",
              "    <tr>\n",
              "      <th>inflation</th>\n",
              "      <td>float64</td>\n",
              "    </tr>\n",
              "    <tr>\n",
              "      <th>unemployment</th>\n",
              "      <td>float64</td>\n",
              "    </tr>\n",
              "  </tbody>\n",
              "</table>\n",
              "</div><br><label><b>dtype:</b> object</label>"
            ],
            "text/plain": [
              "country                  object\n",
              "country_code             object\n",
              "year                      int64\n",
              "tourism_receipts        float64\n",
              "tourism_arrivals        float64\n",
              "tourism_exports         float64\n",
              "tourism_departures      float64\n",
              "tourism_expenditures    float64\n",
              "gdp                     float64\n",
              "inflation               float64\n",
              "unemployment            float64\n",
              "dtype: object"
            ]
          },
          "execution_count": 58,
          "metadata": {},
          "output_type": "execute_result"
        }
      ],
      "source": [
        "df.dtypes"
      ]
    },
    {
      "cell_type": "markdown",
      "metadata": {
        "id": "ArPUfq47yaCB"
      },
      "source": [
        "#### Общая статистика"
      ]
    },
    {
      "cell_type": "code",
      "execution_count": 59,
      "metadata": {
        "colab": {
          "base_uri": "https://localhost:8080/",
          "height": 297
        },
        "id": "xW-bGUOxyPCx",
        "outputId": "d487e9b7-ef28-4cff-f59c-963241180584"
      },
      "outputs": [
        {
          "data": {
            "application/vnd.google.colaboratory.intrinsic+json": {
              "summary": "{\n  \"name\": \"df\",\n  \"rows\": 8,\n  \"fields\": [\n    {\n      \"column\": \"year\",\n      \"properties\": {\n        \"dtype\": \"number\",\n        \"std\": 1037.914818014626,\n        \"min\": 6.062405381698712,\n        \"max\": 3888.0,\n        \"num_unique_values\": 8,\n        \"samples\": [\n          2009.5025720164608,\n          2010.0,\n          3888.0\n        ],\n        \"semantic_type\": \"\",\n        \"description\": \"\"\n      }\n    },\n    {\n      \"column\": \"tourism_receipts\",\n      \"properties\": {\n        \"dtype\": \"number\",\n        \"std\": 651189800600.7906,\n        \"min\": 3888.0,\n        \"max\": 1863068555520.54,\n        \"num_unique_values\": 8,\n        \"samples\": [\n          33320492868.343204,\n          1871000000.0,\n          3888.0\n        ],\n        \"semantic_type\": \"\",\n        \"description\": \"\"\n      }\n    },\n    {\n      \"column\": \"tourism_arrivals\",\n      \"properties\": {\n        \"dtype\": \"number\",\n        \"std\": 838325922.3656887,\n        \"min\": 1100.00002384186,\n        \"max\": 2403074088.46029,\n        \"num_unique_values\": 8,\n        \"samples\": [\n          55988003.32699083,\n          2632500.0,\n          3888.0\n        ],\n        \"semantic_type\": \"\",\n        \"description\": \"\"\n      }\n    },\n    {\n      \"column\": \"tourism_exports\",\n      \"properties\": {\n        \"dtype\": \"number\",\n        \"std\": 1275.9417905097057,\n        \"min\": 0.0009561945847061,\n        \"max\": 3632.0,\n        \"num_unique_values\": 8,\n        \"samples\": [\n          16.310066724427177,\n          8.822522827215206,\n          3632.0\n        ],\n        \"semantic_type\": \"\",\n        \"description\": \"\"\n      }\n    },\n    {\n      \"column\": \"tourism_departures\",\n      \"properties\": {\n        \"dtype\": \"number\",\n        \"std\": 707286310.1164216,\n        \"min\": 1993.0,\n        \"max\": 2034431899.10226,\n        \"num_unique_values\": 8,\n        \"samples\": [\n          72474755.88438277,\n          4096000.0,\n          1993.0\n        ],\n        \"semantic_type\": \"\",\n        \"description\": \"\"\n      }\n    },\n    {\n      \"column\": \"tourism_expenditures\",\n      \"properties\": {\n        \"dtype\": \"number\",\n        \"std\": 1233.1888635784994,\n        \"min\": 0.157818441898368,\n        \"max\": 3496.0,\n        \"num_unique_values\": 8,\n        \"samples\": [\n          6.599394772021593,\n          5.72657075366987,\n          3496.0\n        ],\n        \"semantic_type\": \"\",\n        \"description\": \"\"\n      }\n    },\n    {\n      \"column\": \"gdp\",\n      \"properties\": {\n        \"dtype\": \"number\",\n        \"std\": 30777648773318.055,\n        \"min\": 3888.0,\n        \"max\": 88149850742945.9,\n        \"num_unique_values\": 8,\n        \"samples\": [\n          1830391929534.4785,\n          49515607498.791595,\n          3888.0\n        ],\n        \"semantic_type\": \"\",\n        \"description\": \"\"\n      }\n    },\n    {\n      \"column\": \"inflation\",\n      \"properties\": {\n        \"dtype\": \"number\",\n        \"std\": 1278.146344420882,\n        \"min\": -9.79764705882357,\n        \"max\": 3656.0,\n        \"num_unique_values\": 8,\n        \"samples\": [\n          5.487515880746896,\n          3.4366271694457398,\n          3656.0\n        ],\n        \"semantic_type\": \"\",\n        \"description\": \"\"\n      }\n    },\n    {\n      \"column\": \"unemployment\",\n      \"properties\": {\n        \"dtype\": \"number\",\n        \"std\": 867.5702109316704,\n        \"min\": 0.039,\n        \"max\": 2464.0,\n        \"num_unique_values\": 8,\n        \"samples\": [\n          8.105431896472487,\n          6.902,\n          2464.0\n        ],\n        \"semantic_type\": \"\",\n        \"description\": \"\"\n      }\n    }\n  ]\n}",
              "type": "dataframe"
            },
            "text/html": [
              "\n",
              "  <div id=\"df-99adc783-db27-41e0-bedb-98008d794c1b\" class=\"colab-df-container\">\n",
              "    <div>\n",
              "<style scoped>\n",
              "    .dataframe tbody tr th:only-of-type {\n",
              "        vertical-align: middle;\n",
              "    }\n",
              "\n",
              "    .dataframe tbody tr th {\n",
              "        vertical-align: top;\n",
              "    }\n",
              "\n",
              "    .dataframe thead th {\n",
              "        text-align: right;\n",
              "    }\n",
              "</style>\n",
              "<table border=\"1\" class=\"dataframe\">\n",
              "  <thead>\n",
              "    <tr style=\"text-align: right;\">\n",
              "      <th></th>\n",
              "      <th>year</th>\n",
              "      <th>tourism_receipts</th>\n",
              "      <th>tourism_arrivals</th>\n",
              "      <th>tourism_exports</th>\n",
              "      <th>tourism_departures</th>\n",
              "      <th>tourism_expenditures</th>\n",
              "      <th>gdp</th>\n",
              "      <th>inflation</th>\n",
              "      <th>unemployment</th>\n",
              "    </tr>\n",
              "  </thead>\n",
              "  <tbody>\n",
              "    <tr>\n",
              "      <th>count</th>\n",
              "      <td>3888.000000</td>\n",
              "      <td>3.888000e+03</td>\n",
              "      <td>3.888000e+03</td>\n",
              "      <td>3632.000000</td>\n",
              "      <td>1.993000e+03</td>\n",
              "      <td>3496.000000</td>\n",
              "      <td>3.888000e+03</td>\n",
              "      <td>3656.000000</td>\n",
              "      <td>2464.000000</td>\n",
              "    </tr>\n",
              "    <tr>\n",
              "      <th>mean</th>\n",
              "      <td>2009.502572</td>\n",
              "      <td>3.332049e+10</td>\n",
              "      <td>5.598800e+07</td>\n",
              "      <td>16.310067</td>\n",
              "      <td>7.247476e+07</td>\n",
              "      <td>6.599395</td>\n",
              "      <td>1.830392e+12</td>\n",
              "      <td>5.487516</td>\n",
              "      <td>8.105432</td>\n",
              "    </tr>\n",
              "    <tr>\n",
              "      <th>std</th>\n",
              "      <td>6.062405</td>\n",
              "      <td>1.351772e+11</td>\n",
              "      <td>2.099900e+08</td>\n",
              "      <td>18.273638</td>\n",
              "      <td>2.124226e+08</td>\n",
              "      <td>4.052949</td>\n",
              "      <td>7.531333e+12</td>\n",
              "      <td>14.417589</td>\n",
              "      <td>5.507335</td>\n",
              "    </tr>\n",
              "    <tr>\n",
              "      <th>min</th>\n",
              "      <td>1999.000000</td>\n",
              "      <td>1.000000e+05</td>\n",
              "      <td>1.100000e+03</td>\n",
              "      <td>0.000956</td>\n",
              "      <td>2.000000e+03</td>\n",
              "      <td>0.157818</td>\n",
              "      <td>2.290998e+07</td>\n",
              "      <td>-9.797647</td>\n",
              "      <td>0.039000</td>\n",
              "    </tr>\n",
              "    <tr>\n",
              "      <th>25%</th>\n",
              "      <td>2004.000000</td>\n",
              "      <td>3.260000e+08</td>\n",
              "      <td>6.240000e+05</td>\n",
              "      <td>4.957469</td>\n",
              "      <td>1.084000e+06</td>\n",
              "      <td>4.064086</td>\n",
              "      <td>8.309639e+09</td>\n",
              "      <td>1.740187</td>\n",
              "      <td>4.311000</td>\n",
              "    </tr>\n",
              "    <tr>\n",
              "      <th>50%</th>\n",
              "      <td>2010.000000</td>\n",
              "      <td>1.871000e+09</td>\n",
              "      <td>2.632500e+06</td>\n",
              "      <td>8.822523</td>\n",
              "      <td>4.096000e+06</td>\n",
              "      <td>5.726571</td>\n",
              "      <td>4.951561e+10</td>\n",
              "      <td>3.436627</td>\n",
              "      <td>6.902000</td>\n",
              "    </tr>\n",
              "    <tr>\n",
              "      <th>75%</th>\n",
              "      <td>2015.000000</td>\n",
              "      <td>1.010800e+10</td>\n",
              "      <td>1.498225e+07</td>\n",
              "      <td>19.468424</td>\n",
              "      <td>2.153600e+07</td>\n",
              "      <td>7.894942</td>\n",
              "      <td>4.014085e+11</td>\n",
              "      <td>6.218914</td>\n",
              "      <td>10.285750</td>\n",
              "    </tr>\n",
              "    <tr>\n",
              "      <th>max</th>\n",
              "      <td>2020.000000</td>\n",
              "      <td>1.863069e+12</td>\n",
              "      <td>2.403074e+09</td>\n",
              "      <td>101.966999</td>\n",
              "      <td>2.034432e+09</td>\n",
              "      <td>28.192276</td>\n",
              "      <td>8.814985e+13</td>\n",
              "      <td>557.201817</td>\n",
              "      <td>37.320000</td>\n",
              "    </tr>\n",
              "  </tbody>\n",
              "</table>\n",
              "</div>\n",
              "    <div class=\"colab-df-buttons\">\n",
              "\n",
              "  <div class=\"colab-df-container\">\n",
              "    <button class=\"colab-df-convert\" onclick=\"convertToInteractive('df-99adc783-db27-41e0-bedb-98008d794c1b')\"\n",
              "            title=\"Convert this dataframe to an interactive table.\"\n",
              "            style=\"display:none;\">\n",
              "\n",
              "  <svg xmlns=\"http://www.w3.org/2000/svg\" height=\"24px\" viewBox=\"0 -960 960 960\">\n",
              "    <path d=\"M120-120v-720h720v720H120Zm60-500h600v-160H180v160Zm220 220h160v-160H400v160Zm0 220h160v-160H400v160ZM180-400h160v-160H180v160Zm440 0h160v-160H620v160ZM180-180h160v-160H180v160Zm440 0h160v-160H620v160Z\"/>\n",
              "  </svg>\n",
              "    </button>\n",
              "\n",
              "  <style>\n",
              "    .colab-df-container {\n",
              "      display:flex;\n",
              "      gap: 12px;\n",
              "    }\n",
              "\n",
              "    .colab-df-convert {\n",
              "      background-color: #E8F0FE;\n",
              "      border: none;\n",
              "      border-radius: 50%;\n",
              "      cursor: pointer;\n",
              "      display: none;\n",
              "      fill: #1967D2;\n",
              "      height: 32px;\n",
              "      padding: 0 0 0 0;\n",
              "      width: 32px;\n",
              "    }\n",
              "\n",
              "    .colab-df-convert:hover {\n",
              "      background-color: #E2EBFA;\n",
              "      box-shadow: 0px 1px 2px rgba(60, 64, 67, 0.3), 0px 1px 3px 1px rgba(60, 64, 67, 0.15);\n",
              "      fill: #174EA6;\n",
              "    }\n",
              "\n",
              "    .colab-df-buttons div {\n",
              "      margin-bottom: 4px;\n",
              "    }\n",
              "\n",
              "    [theme=dark] .colab-df-convert {\n",
              "      background-color: #3B4455;\n",
              "      fill: #D2E3FC;\n",
              "    }\n",
              "\n",
              "    [theme=dark] .colab-df-convert:hover {\n",
              "      background-color: #434B5C;\n",
              "      box-shadow: 0px 1px 3px 1px rgba(0, 0, 0, 0.15);\n",
              "      filter: drop-shadow(0px 1px 2px rgba(0, 0, 0, 0.3));\n",
              "      fill: #FFFFFF;\n",
              "    }\n",
              "  </style>\n",
              "\n",
              "    <script>\n",
              "      const buttonEl =\n",
              "        document.querySelector('#df-99adc783-db27-41e0-bedb-98008d794c1b button.colab-df-convert');\n",
              "      buttonEl.style.display =\n",
              "        google.colab.kernel.accessAllowed ? 'block' : 'none';\n",
              "\n",
              "      async function convertToInteractive(key) {\n",
              "        const element = document.querySelector('#df-99adc783-db27-41e0-bedb-98008d794c1b');\n",
              "        const dataTable =\n",
              "          await google.colab.kernel.invokeFunction('convertToInteractive',\n",
              "                                                    [key], {});\n",
              "        if (!dataTable) return;\n",
              "\n",
              "        const docLinkHtml = 'Like what you see? Visit the ' +\n",
              "          '<a target=\"_blank\" href=https://colab.research.google.com/notebooks/data_table.ipynb>data table notebook</a>'\n",
              "          + ' to learn more about interactive tables.';\n",
              "        element.innerHTML = '';\n",
              "        dataTable['output_type'] = 'display_data';\n",
              "        await google.colab.output.renderOutput(dataTable, element);\n",
              "        const docLink = document.createElement('div');\n",
              "        docLink.innerHTML = docLinkHtml;\n",
              "        element.appendChild(docLink);\n",
              "      }\n",
              "    </script>\n",
              "  </div>\n",
              "\n",
              "\n",
              "<div id=\"df-0f214b16-bede-4b9a-a57a-fa90e55574db\">\n",
              "  <button class=\"colab-df-quickchart\" onclick=\"quickchart('df-0f214b16-bede-4b9a-a57a-fa90e55574db')\"\n",
              "            title=\"Suggest charts\"\n",
              "            style=\"display:none;\">\n",
              "\n",
              "<svg xmlns=\"http://www.w3.org/2000/svg\" height=\"24px\"viewBox=\"0 0 24 24\"\n",
              "     width=\"24px\">\n",
              "    <g>\n",
              "        <path d=\"M19 3H5c-1.1 0-2 .9-2 2v14c0 1.1.9 2 2 2h14c1.1 0 2-.9 2-2V5c0-1.1-.9-2-2-2zM9 17H7v-7h2v7zm4 0h-2V7h2v10zm4 0h-2v-4h2v4z\"/>\n",
              "    </g>\n",
              "</svg>\n",
              "  </button>\n",
              "\n",
              "<style>\n",
              "  .colab-df-quickchart {\n",
              "      --bg-color: #E8F0FE;\n",
              "      --fill-color: #1967D2;\n",
              "      --hover-bg-color: #E2EBFA;\n",
              "      --hover-fill-color: #174EA6;\n",
              "      --disabled-fill-color: #AAA;\n",
              "      --disabled-bg-color: #DDD;\n",
              "  }\n",
              "\n",
              "  [theme=dark] .colab-df-quickchart {\n",
              "      --bg-color: #3B4455;\n",
              "      --fill-color: #D2E3FC;\n",
              "      --hover-bg-color: #434B5C;\n",
              "      --hover-fill-color: #FFFFFF;\n",
              "      --disabled-bg-color: #3B4455;\n",
              "      --disabled-fill-color: #666;\n",
              "  }\n",
              "\n",
              "  .colab-df-quickchart {\n",
              "    background-color: var(--bg-color);\n",
              "    border: none;\n",
              "    border-radius: 50%;\n",
              "    cursor: pointer;\n",
              "    display: none;\n",
              "    fill: var(--fill-color);\n",
              "    height: 32px;\n",
              "    padding: 0;\n",
              "    width: 32px;\n",
              "  }\n",
              "\n",
              "  .colab-df-quickchart:hover {\n",
              "    background-color: var(--hover-bg-color);\n",
              "    box-shadow: 0 1px 2px rgba(60, 64, 67, 0.3), 0 1px 3px 1px rgba(60, 64, 67, 0.15);\n",
              "    fill: var(--button-hover-fill-color);\n",
              "  }\n",
              "\n",
              "  .colab-df-quickchart-complete:disabled,\n",
              "  .colab-df-quickchart-complete:disabled:hover {\n",
              "    background-color: var(--disabled-bg-color);\n",
              "    fill: var(--disabled-fill-color);\n",
              "    box-shadow: none;\n",
              "  }\n",
              "\n",
              "  .colab-df-spinner {\n",
              "    border: 2px solid var(--fill-color);\n",
              "    border-color: transparent;\n",
              "    border-bottom-color: var(--fill-color);\n",
              "    animation:\n",
              "      spin 1s steps(1) infinite;\n",
              "  }\n",
              "\n",
              "  @keyframes spin {\n",
              "    0% {\n",
              "      border-color: transparent;\n",
              "      border-bottom-color: var(--fill-color);\n",
              "      border-left-color: var(--fill-color);\n",
              "    }\n",
              "    20% {\n",
              "      border-color: transparent;\n",
              "      border-left-color: var(--fill-color);\n",
              "      border-top-color: var(--fill-color);\n",
              "    }\n",
              "    30% {\n",
              "      border-color: transparent;\n",
              "      border-left-color: var(--fill-color);\n",
              "      border-top-color: var(--fill-color);\n",
              "      border-right-color: var(--fill-color);\n",
              "    }\n",
              "    40% {\n",
              "      border-color: transparent;\n",
              "      border-right-color: var(--fill-color);\n",
              "      border-top-color: var(--fill-color);\n",
              "    }\n",
              "    60% {\n",
              "      border-color: transparent;\n",
              "      border-right-color: var(--fill-color);\n",
              "    }\n",
              "    80% {\n",
              "      border-color: transparent;\n",
              "      border-right-color: var(--fill-color);\n",
              "      border-bottom-color: var(--fill-color);\n",
              "    }\n",
              "    90% {\n",
              "      border-color: transparent;\n",
              "      border-bottom-color: var(--fill-color);\n",
              "    }\n",
              "  }\n",
              "</style>\n",
              "\n",
              "  <script>\n",
              "    async function quickchart(key) {\n",
              "      const quickchartButtonEl =\n",
              "        document.querySelector('#' + key + ' button');\n",
              "      quickchartButtonEl.disabled = true;  // To prevent multiple clicks.\n",
              "      quickchartButtonEl.classList.add('colab-df-spinner');\n",
              "      try {\n",
              "        const charts = await google.colab.kernel.invokeFunction(\n",
              "            'suggestCharts', [key], {});\n",
              "      } catch (error) {\n",
              "        console.error('Error during call to suggestCharts:', error);\n",
              "      }\n",
              "      quickchartButtonEl.classList.remove('colab-df-spinner');\n",
              "      quickchartButtonEl.classList.add('colab-df-quickchart-complete');\n",
              "    }\n",
              "    (() => {\n",
              "      let quickchartButtonEl =\n",
              "        document.querySelector('#df-0f214b16-bede-4b9a-a57a-fa90e55574db button');\n",
              "      quickchartButtonEl.style.display =\n",
              "        google.colab.kernel.accessAllowed ? 'block' : 'none';\n",
              "    })();\n",
              "  </script>\n",
              "</div>\n",
              "    </div>\n",
              "  </div>\n"
            ],
            "text/plain": [
              "              year  tourism_receipts  tourism_arrivals  tourism_exports  \\\n",
              "count  3888.000000      3.888000e+03      3.888000e+03      3632.000000   \n",
              "mean   2009.502572      3.332049e+10      5.598800e+07        16.310067   \n",
              "std       6.062405      1.351772e+11      2.099900e+08        18.273638   \n",
              "min    1999.000000      1.000000e+05      1.100000e+03         0.000956   \n",
              "25%    2004.000000      3.260000e+08      6.240000e+05         4.957469   \n",
              "50%    2010.000000      1.871000e+09      2.632500e+06         8.822523   \n",
              "75%    2015.000000      1.010800e+10      1.498225e+07        19.468424   \n",
              "max    2020.000000      1.863069e+12      2.403074e+09       101.966999   \n",
              "\n",
              "       tourism_departures  tourism_expenditures           gdp    inflation  \\\n",
              "count        1.993000e+03           3496.000000  3.888000e+03  3656.000000   \n",
              "mean         7.247476e+07              6.599395  1.830392e+12     5.487516   \n",
              "std          2.124226e+08              4.052949  7.531333e+12    14.417589   \n",
              "min          2.000000e+03              0.157818  2.290998e+07    -9.797647   \n",
              "25%          1.084000e+06              4.064086  8.309639e+09     1.740187   \n",
              "50%          4.096000e+06              5.726571  4.951561e+10     3.436627   \n",
              "75%          2.153600e+07              7.894942  4.014085e+11     6.218914   \n",
              "max          2.034432e+09             28.192276  8.814985e+13   557.201817   \n",
              "\n",
              "       unemployment  \n",
              "count   2464.000000  \n",
              "mean       8.105432  \n",
              "std        5.507335  \n",
              "min        0.039000  \n",
              "25%        4.311000  \n",
              "50%        6.902000  \n",
              "75%       10.285750  \n",
              "max       37.320000  "
            ]
          },
          "execution_count": 59,
          "metadata": {},
          "output_type": "execute_result"
        }
      ],
      "source": [
        "df.describe()"
      ]
    },
    {
      "cell_type": "markdown",
      "metadata": {
        "id": "_1iLkABry4Y0"
      },
      "source": [
        "## Алгоритм"
      ]
    },
    {
      "cell_type": "markdown",
      "metadata": {
        "id": "isppDkN2-YGW"
      },
      "source": [
        "Применим регрессионный анализ для оценки влияния туризма на экономические показатели"
      ]
    },
    {
      "cell_type": "code",
      "execution_count": 50,
      "metadata": {
        "colab": {
          "base_uri": "https://localhost:8080/"
        },
        "id": "D--s2YXVyZAw",
        "outputId": "f119cbdc-76df-44b4-888d-85db90ce4b63"
      },
      "outputs": [
        {
          "data": {
            "text/plain": [
              "(0.9640917345629278,\n",
              " array([   56.62575769, -1126.6476051 ]),\n",
              " 16353408948.649658)"
            ]
          },
          "execution_count": 50,
          "metadata": {},
          "output_type": "execute_result"
        }
      ],
      "source": [
        "from sklearn.linear_model import LinearRegression\n",
        "from sklearn.model_selection import train_test_split\n",
        "from sklearn.metrics import r2_score\n",
        "import numpy as np\n",
        "\n",
        "filtered_data = data[[\"tourism_receipts\", \"tourism_arrivals\", \"gdp\"]].dropna()\n",
        "\n",
        "X = filtered_data[[\"tourism_receipts\", \"tourism_arrivals\"]]\n",
        "y = filtered_data[\"gdp\"]\n",
        "\n",
        "# Разделяем данные на обучающую и тестовую выборки\n",
        "X_train, X_test, y_train, y_test = train_test_split(X, y, test_size=0.2, random_state=42)\n",
        "\n",
        "# Создаем и обучаем модель линейной регрессии\n",
        "model = LinearRegression()\n",
        "model.fit(X_train, y_train)\n",
        "\n",
        "# Предсказываем значения на тестовой выборке\n",
        "y_pred = model.predict(X_test)\n",
        "\n",
        "r2 = r2_score(y_test, y_pred)\n",
        "\n",
        "coefficients = model.coef_\n",
        "intercept = model.intercept_\n",
        "\n",
        "r2, coefficients, intercept\n"
      ]
    },
    {
      "cell_type": "markdown",
      "metadata": {
        "id": "loy8Tjhs_Gmu"
      },
      "source": [
        "Результаты регрессионного анализа:\n",
        "\n",
        "- Коэффициент детерминации (R²): 0.964. Модель объясняет 96.4% вариации ВВП, что указывает на высокую степень соответствия данных модели.\n",
        "- Коэффициенты регрессии:\n",
        "    - tourism_receiptstourism\\_receipts: 56.6356.63 — каждый дополнительный доллар дохода от туризма связан с увеличением ВВП на 56.63 доллара (в среднем, при прочих равных условиях).\n",
        "    - tourism_arrivalstourism\\_arrivals: −1126.65-1126.65 — увеличение числа туристов на единицу связано с уменьшением ВВП на 1126.65 долларов, что может указывать на возможные перекосы в данных или влияние других факторов.\n",
        "- Перехват (intercept): 1.64×10101.64 \\times 10^{10} — базовое значение ВВП, если оба признака равны нулю."
      ]
    },
    {
      "cell_type": "markdown",
      "metadata": {
        "id": "Vexoa9hqAwhB"
      },
      "source": [
        "## Кластеризация"
      ]
    },
    {
      "cell_type": "code",
      "execution_count": 51,
      "metadata": {
        "colab": {
          "base_uri": "https://localhost:8080/",
          "height": 564
        },
        "id": "y4LKUxcPA4Ft",
        "outputId": "3a9235b3-4c58-452d-8e27-000b47d22d1e"
      },
      "outputs": [
        {
          "data": {
            "image/png": "[encoded data removed]",
            "text/plain": [
              "<Figure size 1000x600 with 1 Axes>"
            ]
          },
          "metadata": {},
          "output_type": "display_data"
        }
      ],
      "source": [
        "from sklearn.decomposition import PCA\n",
        "from sklearn.cluster import KMeans\n",
        "import matplotlib.pyplot as plt\n",
        "\n",
        "from sklearn.preprocessing import StandardScaler\n",
        "\n",
        "scaler = StandardScaler()\n",
        "X_scaled = scaler.fit_transform(X)\n",
        "\n",
        "pca = PCA(n_components=2)\n",
        "X_pca = pca.fit_transform(X_scaled)\n",
        "\n",
        "kmeans = KMeans(n_clusters=3, random_state=42)\n",
        "clusters = kmeans.fit_predict(X_pca)\n",
        "\n",
        "# Визуализация результатов PCA и кластеризации\n",
        "plt.figure(figsize=(10, 6))\n",
        "plt.scatter(X_pca[:, 0], X_pca[:, 1], c=clusters, cmap='viridis', s=50, alpha=0.7)\n",
        "plt.scatter(kmeans.cluster_centers_[:, 0], kmeans.cluster_centers_[:, 1], c='red', s=200, marker='x', label='Centroids')\n",
        "plt.title('PCA + K-Means Clustering')\n",
        "plt.xlabel('Principal Component 1')\n",
        "plt.ylabel('Principal Component 2')\n",
        "plt.legend()\n",
        "plt.show()\n"
      ]
    },
    {
      "cell_type": "markdown",
      "metadata": {
        "id": "jeTSlTGKNZzB"
      },
      "source": [
        "На графике представлена кластеризация данных с использованием метода K-средних после снижения размерности с помощью PCA до двух компонентов:\n",
        "\n",
        "- Каждая точка представляет страну или регион.\n",
        "- Цвета обозначают принадлежность к кластерам.\n",
        "- Красные кресты — центроиды кластеров."
      ]
    },
    {
      "cell_type": "markdown",
      "metadata": {
        "id": "tQV95i75BjTw"
      },
      "source": [
        "## Выбросы"
      ]
    },
    {
      "cell_type": "code",
      "execution_count": 52,
      "metadata": {
        "colab": {
          "base_uri": "https://localhost:8080/"
        },
        "id": "8QCyqmHmA5SY",
        "outputId": "ef520fac-0f9b-4f59-de9a-0f05e1546023"
      },
      "outputs": [
        {
          "data": {
            "text/plain": [
              "(195, 195, 195)"
            ]
          },
          "execution_count": 52,
          "metadata": {},
          "output_type": "execute_result"
        }
      ],
      "source": [
        "from sklearn.ensemble import IsolationForest\n",
        "from sklearn.neighbors import LocalOutlierFactor\n",
        "from sklearn.covariance import EllipticEnvelope\n",
        "\n",
        "# Применим несколько методов для поиска выбросов\n",
        "\n",
        "# 1. Isolation Forest\n",
        "iso = IsolationForest(contamination=0.05, random_state=42)\n",
        "iso_outliers = iso.fit_predict(X_scaled)\n",
        "\n",
        "# 2. Local Outlier Factor\n",
        "lof = LocalOutlierFactor(n_neighbors=20, contamination=0.05)\n",
        "lof_outliers = lof.fit_predict(X_scaled)\n",
        "\n",
        "# 3. Elliptic Envelope (модель Гауссовской ковариации)\n",
        "elliptic = EllipticEnvelope(contamination=0.05, random_state=42)\n",
        "elliptic_outliers = elliptic.fit_predict(X_scaled)\n",
        "\n",
        "# Подсчет выбросов по каждому методу\n",
        "iso_outliers_count = sum(iso_outliers == -1)\n",
        "lof_outliers_count = sum(lof_outliers == -1)\n",
        "elliptic_outliers_count = sum(elliptic_outliers == -1)\n",
        "\n",
        "iso_outliers_count, lof_outliers_count, elliptic_outliers_count\n"
      ]
    },
    {
      "cell_type": "markdown",
      "metadata": {
        "id": "mlrGriJ0Oj7n"
      },
      "source": [
        "Все три метода выявили одинаковое количество выбросов в данных — 195 объектов (примерно 5% от общего числа)"
      ]
    },
    {
      "cell_type": "code",
      "execution_count": 53,
      "metadata": {
        "colab": {
          "base_uri": "https://localhost:8080/",
          "height": 564
        },
        "id": "i4DhbXZTB0gV",
        "outputId": "b0c58d7c-affd-4fbe-c5ee-e5e159b562d7"
      },
      "outputs": [
        {
          "data": {
            "image/png": "[encoded data removed]",
            "text/plain": [
              "<Figure size 1000x600 with 1 Axes>"
            ]
          },
          "metadata": {},
          "output_type": "display_data"
        }
      ],
      "source": [
        "# Визуализация выбросов с использованием PCA-компонент\n",
        "plt.figure(figsize=(10, 6))\n",
        "plt.scatter(X_pca[:, 0], X_pca[:, 1], c='blue', s=20, alpha=0.6, label='Нормальные данные')\n",
        "plt.scatter(\n",
        "    X_pca[outliers, 0],\n",
        "    X_pca[outliers, 1],\n",
        "    c='red',\n",
        "    s=50,\n",
        "    alpha=0.8,\n",
        "    label='Выбросы'\n",
        ")\n",
        "plt.title('Визуализация выбросов на PCA-компонентах')\n",
        "plt.xlabel('Principal Component 1')\n",
        "plt.ylabel('Principal Component 2')\n",
        "plt.legend()\n",
        "plt.show()\n"
      ]
    },
    {
      "cell_type": "markdown",
      "metadata": {
        "id": "z5mjbeusNPBt"
      },
      "source": [
        "На графике показаны выбросы (красные точки) в пространстве двух главных компонент, полученных с помощью PCA. Большинство данных сосредоточено в основной массе, а выбросы располагаются за пределами кластеров."
      ]
    },
    {
      "cell_type": "markdown",
      "metadata": {
        "id": "YnqnOHJ5Dboy"
      },
      "source": [
        "## ML systems design\n",
        "\n",
        "Использование моделей регрессии для оценки влияния туризма (доходов, числа туристов) на экономические показатели (например, ВВП) в странах.\n",
        "\n",
        "Применение:\n",
        "\n",
        "- Системы поддержки принятия решений в правительственных организациях.\n",
        "- Планирование бюджетов для развития туризма.\n",
        "- Оценка потенциальных инвестиций в туристическую инфраструктуру.\n",
        "\n",
        "Преимущества:\n",
        "\n",
        "- Простота интерпретации линейных моделей.\n",
        "- Возможность количественного анализа ключевых факторов.\n",
        "\n",
        "Недостатки:\n",
        "\n",
        "- Линейная регрессия может не учесть нелинейные взаимосвязи.\n",
        "- Требуется тщательная подготовка данных для уменьшения влияния выбросов."
      ]
    },
    {
      "cell_type": "code",
      "execution_count": null,
      "metadata": {
        "id": "kchv7pHUCKwK"
      },
      "outputs": [],
      "source": []
    }
  ],
  "metadata": {
    "colab": {
      "provenance": []
    },
    "kernelspec": {
      "display_name": ".venv",
      "language": "python",
      "name": "python3"
    },
    "language_info": {
      "name": "python",
      "version": "3.12.2"
    }
  },
  "nbformat": 4,
  "nbformat_minor": 0
}
